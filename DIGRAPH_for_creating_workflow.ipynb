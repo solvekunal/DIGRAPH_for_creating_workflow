{
 "cells": [
  {
   "cell_type": "code",
   "execution_count": 1,
   "id": "2cf0305c-2b93-472a-a960-77db7fe1122e",
   "metadata": {},
   "outputs": [],
   "source": [
    "import pandas as pd\n",
    "import networkx as nx\n",
    "import matplotlib.pyplot as plt"
   ]
  },
  {
   "cell_type": "code",
   "execution_count": 2,
   "id": "fc543400-75c0-482b-803d-87bd8be890c8",
   "metadata": {},
   "outputs": [
    {
     "data": {
      "text/html": [
       "<div>\n",
       "<style scoped>\n",
       "    .dataframe tbody tr th:only-of-type {\n",
       "        vertical-align: middle;\n",
       "    }\n",
       "\n",
       "    .dataframe tbody tr th {\n",
       "        vertical-align: top;\n",
       "    }\n",
       "\n",
       "    .dataframe thead th {\n",
       "        text-align: right;\n",
       "    }\n",
       "</style>\n",
       "<table border=\"1\" class=\"dataframe\">\n",
       "  <thead>\n",
       "    <tr style=\"text-align: right;\">\n",
       "      <th></th>\n",
       "      <th>workflow_id</th>\n",
       "      <th>node_name</th>\n",
       "      <th>from_node</th>\n",
       "      <th>to_node</th>\n",
       "    </tr>\n",
       "  </thead>\n",
       "  <tbody>\n",
       "    <tr>\n",
       "      <th>0</th>\n",
       "      <td>1</td>\n",
       "      <td>Start</td>\n",
       "      <td>None</td>\n",
       "      <td>Start</td>\n",
       "    </tr>\n",
       "    <tr>\n",
       "      <th>1</th>\n",
       "      <td>1</td>\n",
       "      <td>Process A</td>\n",
       "      <td>Start</td>\n",
       "      <td>Process A</td>\n",
       "    </tr>\n",
       "    <tr>\n",
       "      <th>2</th>\n",
       "      <td>1</td>\n",
       "      <td>End</td>\n",
       "      <td>Process A</td>\n",
       "      <td>End</td>\n",
       "    </tr>\n",
       "    <tr>\n",
       "      <th>3</th>\n",
       "      <td>2</td>\n",
       "      <td>Start</td>\n",
       "      <td>None</td>\n",
       "      <td>Start</td>\n",
       "    </tr>\n",
       "    <tr>\n",
       "      <th>4</th>\n",
       "      <td>2</td>\n",
       "      <td>End</td>\n",
       "      <td>Start</td>\n",
       "      <td>End</td>\n",
       "    </tr>\n",
       "  </tbody>\n",
       "</table>\n",
       "</div>"
      ],
      "text/plain": [
       "   workflow_id  node_name  from_node    to_node\n",
       "0            1      Start       None      Start\n",
       "1            1  Process A      Start  Process A\n",
       "2            1        End  Process A        End\n",
       "3            2      Start       None      Start\n",
       "4            2        End      Start        End"
      ]
     },
     "execution_count": 2,
     "metadata": {},
     "output_type": "execute_result"
    }
   ],
   "source": [
    "# Sample data\n",
    "data = {\n",
    "    'workflow_id': [1, 1, 1, 2, 2],\n",
    "    'node_name': ['Start', 'Process A', 'End', 'Start', 'End'],\n",
    "    'from_node': [None, 'Start', 'Process A', None, 'Start'],\n",
    "    'to_node': ['Start', 'Process A', 'End', 'Start', 'End']\n",
    "}\n",
    "\n",
    "# Convert to DataFrame\n",
    "df = pd.DataFrame(data)\n",
    "df"
   ]
  },
  {
   "cell_type": "code",
   "execution_count": 3,
   "id": "c4c4704a-2c36-47a3-8f55-71381f9c1bce",
   "metadata": {},
   "outputs": [
    {
     "data": {
      "text/plain": [
       "<networkx.classes.digraph.DiGraph at 0x295579086e0>"
      ]
     },
     "execution_count": 3,
     "metadata": {},
     "output_type": "execute_result"
    }
   ],
   "source": [
    "# Initialize a directed graph\n",
    "G = nx.DiGraph()\n",
    "G"
   ]
  },
  {
   "cell_type": "code",
   "execution_count": 4,
   "id": "2dc4f08a-d8da-4c00-a1ca-e1ada40c2323",
   "metadata": {},
   "outputs": [
    {
     "data": {
      "image/png": "[encoded data removed]",
      "text/plain": [
       "<Figure size 640x480 with 1 Axes>"
      ]
     },
     "metadata": {},
     "output_type": "display_data"
    }
   ],
   "source": [
    "# Add edges to the graph\n",
    "for _, row in df.iterrows():\n",
    "    if row['from_node'] is not None and row['to_node'] is not None:\n",
    "        G.add_edge(row['from_node'], row['to_node'])\n",
    "\n",
    "# Draw the graph\n",
    "pos = nx.spring_layout(G)\n",
    "nx.draw(G, pos, with_labels=True, node_size=3000, node_color=\"lightblue\", font_size=10, font_weight=\"bold\")\n",
    "plt.show()"
   ]
  },
  {
   "cell_type": "markdown",
   "id": "4f21c1d7-93df-4092-8fc8-525f336afeea",
   "metadata": {},
   "source": [
    "# NOW , LETS WRITE THE PROCESS FLOW INSTEAD OF DISPLAYING IT"
   ]
  },
  {
   "cell_type": "code",
   "execution_count": 9,
   "id": "b90b1fed-bffa-4e00-8de3-b406b4c8df5f",
   "metadata": {},
   "outputs": [
    {
     "name": "stdout",
     "output_type": "stream",
     "text": [
      "Workflow 1:\n",
      "Start -> Process A\n",
      "Process A -> End\n",
      "\n",
      "Workflow 2:\n",
      "Start -> End\n",
      "\n"
     ]
    }
   ],
   "source": [
    "import pandas as pd\n",
    "\n",
    "# Sample data\n",
    "data = {\n",
    "    'workflow_id': [1, 1, 1, 2, 2],\n",
    "    'node_name': ['Start', 'Process A', 'End', 'Start', 'End'],\n",
    "    'from_node': [None, 'Start', 'Process A', None, 'Start'],\n",
    "    'to_node': ['Start', 'Process A', 'End', 'Start', 'End']\n",
    "}\n",
    "\n",
    "# Convert to DataFrame\n",
    "df = pd.DataFrame(data)\n",
    "\n",
    "# Group by workflow_id\n",
    "workflows1 = df.groupby('workflow_id')\n",
    "\n",
    "# Create textual representation of the workflows\n",
    "for workflow_id, group in workflows:\n",
    "    print(f\"Workflow {workflow_id}:\")\n",
    "    for _, row in group.iterrows():\n",
    "        if row['from_node'] is not None and row['to_node'] is not None:\n",
    "            print(f\"{row['from_node']} -> {row['to_node']}\")\n",
    "    print()  # Add a new line between workflows"
   ]
  },
  {
   "cell_type": "code",
   "execution_count": null,
   "id": "f554ddb4-045d-40bb-b805-6ecfd7bf5d57",
   "metadata": {},
   "outputs": [],
   "source": []
  },
  {
   "cell_type": "code",
   "execution_count": null,
   "id": "b18e5887-8819-49de-925c-46653b1138ce",
   "metadata": {},
   "outputs": [],
   "source": [
    "\n"
   ]
  }
 ],
 "metadata": {
  "kernelspec": {
   "display_name": "Python 3 (ipykernel)",
   "language": "python",
   "name": "python3"
  },
  "language_info": {
   "codemirror_mode": {
    "name": "ipython",
    "version": 3
   },
   "file_extension": ".py",
   "mimetype": "text/x-python",
   "name": "python",
   "nbconvert_exporter": "python",
   "pygments_lexer": "ipython3",
   "version": "3.12.4"
  }
 },
 "nbformat": 4,
 "nbformat_minor": 5
}
